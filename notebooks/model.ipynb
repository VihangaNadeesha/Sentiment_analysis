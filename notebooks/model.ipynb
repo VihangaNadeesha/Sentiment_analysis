{
 "cells": [
  {
   "cell_type": "markdown",
   "id": "c71eb7b4-12f0-4265-9fff-c921b09eb211",
   "metadata": {
    "id": "c71eb7b4-12f0-4265-9fff-c921b09eb211"
   },
   "source": [
    "### Crop Yield Prediction ###"
   ]
  },
  {
   "cell_type": "code",
   "execution_count": 1,
   "id": "1d9e8290",
   "metadata": {
    "colab": {
     "base_uri": "https://localhost:8080/"
    },
    "executionInfo": {
     "elapsed": 36979,
     "status": "ok",
     "timestamp": 1702650473952,
     "user": {
      "displayName": "Pushpika Sundarreson",
      "userId": "16342568415616512786"
     },
     "user_tz": -330
    },
    "id": "1d9e8290",
    "outputId": "3e3223f1-7b1b-494e-9422-b22edb197ff4"
   },
   "outputs": [
    {
     "name": "stdout",
     "output_type": "stream",
     "text": [
      "Requirement already satisfied: pandas in /usr/local/lib/python3.10/dist-packages (1.5.3)\n",
      "Requirement already satisfied: python-dateutil>=2.8.1 in /usr/local/lib/python3.10/dist-packages (from pandas) (2.8.2)\n",
      "Requirement already satisfied: pytz>=2020.1 in /usr/local/lib/python3.10/dist-packages (from pandas) (2023.3.post1)\n",
      "Requirement already satisfied: numpy>=1.21.0 in /usr/local/lib/python3.10/dist-packages (from pandas) (1.23.5)\n",
      "Requirement already satisfied: six>=1.5 in /usr/local/lib/python3.10/dist-packages (from python-dateutil>=2.8.1->pandas) (1.16.0)\n",
      "Requirement already satisfied: scikit-learn in /usr/local/lib/python3.10/dist-packages (1.2.2)\n",
      "Requirement already satisfied: numpy>=1.17.3 in /usr/local/lib/python3.10/dist-packages (from scikit-learn) (1.23.5)\n",
      "Requirement already satisfied: scipy>=1.3.2 in /usr/local/lib/python3.10/dist-packages (from scikit-learn) (1.11.4)\n",
      "Requirement already satisfied: joblib>=1.1.1 in /usr/local/lib/python3.10/dist-packages (from scikit-learn) (1.3.2)\n",
      "Requirement already satisfied: threadpoolctl>=2.0.0 in /usr/local/lib/python3.10/dist-packages (from scikit-learn) (3.2.0)\n"
     ]
    }
   ],
   "source": [
    "!pip install pandas\n",
    "!pip install scikit-learn\n",
    "\n",
    "import pandas as pd\n",
    "import numpy as np\n",
    "from sklearn.model_selection import train_test_split\n",
    "from sklearn.ensemble import RandomForestRegressor\n",
    "from sklearn import metrics"
   ]
  },
  {
   "cell_type": "code",
   "execution_count": 7,
   "id": "5b76eb59",
   "metadata": {
    "colab": {
     "base_uri": "https://localhost:8080/",
     "height": 441
    },
    "executionInfo": {
     "elapsed": 20862,
     "status": "ok",
     "timestamp": 1702650494803,
     "user": {
      "displayName": "Pushpika Sundarreson",
      "userId": "16342568415616512786"
     },
     "user_tz": -330
    },
    "id": "5b76eb59",
    "outputId": "e3f32a1b-1dcd-4cf8-dbe2-389c6c34a7c8"
   },
   "outputs": [
    {
     "ename": "ModuleNotFoundError",
     "evalue": "No module named 'google'",
     "output_type": "error",
     "traceback": [
      "\u001b[1;31m---------------------------------------------------------------------------\u001b[0m",
      "\u001b[1;31mModuleNotFoundError\u001b[0m                       Traceback (most recent call last)",
      "Cell \u001b[1;32mIn[7], line 1\u001b[0m\n\u001b[1;32m----> 1\u001b[0m \u001b[38;5;28;01mfrom\u001b[39;00m \u001b[38;5;21;01mgoogle\u001b[39;00m\u001b[38;5;21;01m.\u001b[39;00m\u001b[38;5;21;01mcolab\u001b[39;00m \u001b[38;5;28;01mimport\u001b[39;00m drive\n\u001b[0;32m      2\u001b[0m drive\u001b[38;5;241m.\u001b[39mmount(\u001b[38;5;124m'\u001b[39m\u001b[38;5;124m/content/drive\u001b[39m\u001b[38;5;124m'\u001b[39m)\n\u001b[0;32m      3\u001b[0m df \u001b[38;5;241m=\u001b[39m pd\u001b[38;5;241m.\u001b[39mread_csv(\u001b[38;5;124m'\u001b[39m\u001b[38;5;124m/content/drive/My Drive/3. AI/AI cw/Dataset.csv\u001b[39m\u001b[38;5;124m'\u001b[39m)\n",
      "\u001b[1;31mModuleNotFoundError\u001b[0m: No module named 'google'"
     ]
    }
   ],
   "source": [
    "from google.colab import drive\n",
    "drive.mount('/content/drive')\n",
    "df = pd.read_csv('/content/drive/My Drive/3. AI/AI cw/Dataset.csv')\n",
    "df"
   ]
  },
  {
   "cell_type": "code",
   "execution_count": 3,
   "id": "jtdmDPh_sznY",
   "metadata": {
    "executionInfo": {
     "elapsed": 7,
     "status": "ok",
     "timestamp": 1702650494804,
     "user": {
      "displayName": "Pushpika Sundarreson",
      "userId": "16342568415616512786"
     },
     "user_tz": -330
    },
    "id": "jtdmDPh_sznY"
   },
   "outputs": [],
   "source": [
    "df.replace('Reddish Brown Latosolic soil ', 'Reddish Brown Latosolic soil', inplace=True)\n",
    "df.replace('Reddish Brown Earths ', 'Reddish Brown Earths', inplace=True)"
   ]
  },
  {
   "cell_type": "code",
   "execution_count": 4,
   "id": "46412b99",
   "metadata": {
    "executionInfo": {
     "elapsed": 7,
     "status": "ok",
     "timestamp": 1702650494804,
     "user": {
      "displayName": "Pushpika Sundarreson",
      "userId": "16342568415616512786"
     },
     "user_tz": -330
    },
    "id": "46412b99"
   },
   "outputs": [],
   "source": [
    "df = df.dropna(axis=0).reset_index(drop=True) #removing missing values instead of filling it as there are several missing values"
   ]
  },
  {
   "cell_type": "code",
   "execution_count": 5,
   "id": "df337955",
   "metadata": {
    "colab": {
     "base_uri": "https://localhost:8080/"
    },
    "executionInfo": {
     "elapsed": 6,
     "status": "ok",
     "timestamp": 1702650494804,
     "user": {
      "displayName": "Pushpika Sundarreson",
      "userId": "16342568415616512786"
     },
     "user_tz": -330
    },
    "id": "df337955",
    "outputId": "3a7526d3-eaa4-4e23-ea1b-df862c7b310c"
   },
   "outputs": [
    {
     "data": {
      "text/plain": [
       "District              0\n",
       "Total-Extent          0\n",
       "Total-Yield           0\n",
       "Crop                  0\n",
       "Mean precipitation    0\n",
       "Mean temperature      0\n",
       "Soil_type             0\n",
       "dtype: int64"
      ]
     },
     "execution_count": 5,
     "metadata": {},
     "output_type": "execute_result"
    }
   ],
   "source": [
    "df.isnull().sum() #confirming the removal of missing values"
   ]
  },
  {
   "cell_type": "code",
   "execution_count": 6,
   "id": "3cc1bc71",
   "metadata": {
    "colab": {
     "base_uri": "https://localhost:8080/",
     "height": 495
    },
    "executionInfo": {
     "elapsed": 557,
     "status": "ok",
     "timestamp": 1702650495356,
     "user": {
      "displayName": "Pushpika Sundarreson",
      "userId": "16342568415616512786"
     },
     "user_tz": -330
    },
    "id": "3cc1bc71",
    "outputId": "f34f1753-e3c7-4d12-9883-2227275942ef"
   },
   "outputs": [
    {
     "data": {
      "text/html": [
       "\n",
       "  <div id=\"df-7a267926-e554-4e8b-9463-c59c0624e50c\" class=\"colab-df-container\">\n",
       "    <div>\n",
       "<style scoped>\n",
       "    .dataframe tbody tr th:only-of-type {\n",
       "        vertical-align: middle;\n",
       "    }\n",
       "\n",
       "    .dataframe tbody tr th {\n",
       "        vertical-align: top;\n",
       "    }\n",
       "\n",
       "    .dataframe thead th {\n",
       "        text-align: right;\n",
       "    }\n",
       "</style>\n",
       "<table border=\"1\" class=\"dataframe\">\n",
       "  <thead>\n",
       "    <tr style=\"text-align: right;\">\n",
       "      <th></th>\n",
       "      <th>Total-Extent</th>\n",
       "      <th>Total-Yield</th>\n",
       "      <th>Mean precipitation</th>\n",
       "      <th>Mean temperature</th>\n",
       "      <th>Soil_type_Immature Brown Loam</th>\n",
       "      <th>Soil_type_Red Yellow Latosols</th>\n",
       "      <th>Soil_type_Red Yellow Podzolic soils</th>\n",
       "      <th>Soil_type_Reddish Brown Earths</th>\n",
       "      <th>Soil_type_Reddish Brown Latosolic soil</th>\n",
       "      <th>Soil_type_Regosols</th>\n",
       "      <th>...</th>\n",
       "      <th>District_Nuwara Eliya</th>\n",
       "      <th>District_Polonnaruwa</th>\n",
       "      <th>District_Puttalam</th>\n",
       "      <th>District_Ratnapura</th>\n",
       "      <th>District_Trincomalee</th>\n",
       "      <th>District_Vavuniya</th>\n",
       "      <th>Crop _Capsicum</th>\n",
       "      <th>Crop _Ginger</th>\n",
       "      <th>Crop _Red Pumpkin</th>\n",
       "      <th>Crop _Tomatoes</th>\n",
       "    </tr>\n",
       "  </thead>\n",
       "  <tbody>\n",
       "    <tr>\n",
       "      <th>0</th>\n",
       "      <td>7.0</td>\n",
       "      <td>35.0</td>\n",
       "      <td>1894.93</td>\n",
       "      <td>27.15</td>\n",
       "      <td>0</td>\n",
       "      <td>0</td>\n",
       "      <td>1</td>\n",
       "      <td>0</td>\n",
       "      <td>0</td>\n",
       "      <td>0</td>\n",
       "      <td>...</td>\n",
       "      <td>0</td>\n",
       "      <td>0</td>\n",
       "      <td>0</td>\n",
       "      <td>0</td>\n",
       "      <td>0</td>\n",
       "      <td>0</td>\n",
       "      <td>1</td>\n",
       "      <td>0</td>\n",
       "      <td>0</td>\n",
       "      <td>0</td>\n",
       "    </tr>\n",
       "    <tr>\n",
       "      <th>1</th>\n",
       "      <td>59.0</td>\n",
       "      <td>190.0</td>\n",
       "      <td>1894.93</td>\n",
       "      <td>27.15</td>\n",
       "      <td>0</td>\n",
       "      <td>0</td>\n",
       "      <td>1</td>\n",
       "      <td>0</td>\n",
       "      <td>0</td>\n",
       "      <td>0</td>\n",
       "      <td>...</td>\n",
       "      <td>0</td>\n",
       "      <td>0</td>\n",
       "      <td>0</td>\n",
       "      <td>0</td>\n",
       "      <td>0</td>\n",
       "      <td>0</td>\n",
       "      <td>1</td>\n",
       "      <td>0</td>\n",
       "      <td>0</td>\n",
       "      <td>0</td>\n",
       "    </tr>\n",
       "    <tr>\n",
       "      <th>2</th>\n",
       "      <td>47.0</td>\n",
       "      <td>204.0</td>\n",
       "      <td>1894.93</td>\n",
       "      <td>27.15</td>\n",
       "      <td>0</td>\n",
       "      <td>0</td>\n",
       "      <td>0</td>\n",
       "      <td>0</td>\n",
       "      <td>1</td>\n",
       "      <td>0</td>\n",
       "      <td>...</td>\n",
       "      <td>0</td>\n",
       "      <td>0</td>\n",
       "      <td>0</td>\n",
       "      <td>0</td>\n",
       "      <td>0</td>\n",
       "      <td>0</td>\n",
       "      <td>1</td>\n",
       "      <td>0</td>\n",
       "      <td>0</td>\n",
       "      <td>0</td>\n",
       "    </tr>\n",
       "    <tr>\n",
       "      <th>3</th>\n",
       "      <td>121.0</td>\n",
       "      <td>213.0</td>\n",
       "      <td>1551.51</td>\n",
       "      <td>24.66</td>\n",
       "      <td>0</td>\n",
       "      <td>0</td>\n",
       "      <td>0</td>\n",
       "      <td>0</td>\n",
       "      <td>1</td>\n",
       "      <td>0</td>\n",
       "      <td>...</td>\n",
       "      <td>0</td>\n",
       "      <td>0</td>\n",
       "      <td>0</td>\n",
       "      <td>0</td>\n",
       "      <td>0</td>\n",
       "      <td>0</td>\n",
       "      <td>1</td>\n",
       "      <td>0</td>\n",
       "      <td>0</td>\n",
       "      <td>0</td>\n",
       "    </tr>\n",
       "    <tr>\n",
       "      <th>4</th>\n",
       "      <td>225.0</td>\n",
       "      <td>1241.0</td>\n",
       "      <td>1551.51</td>\n",
       "      <td>24.66</td>\n",
       "      <td>1</td>\n",
       "      <td>0</td>\n",
       "      <td>0</td>\n",
       "      <td>0</td>\n",
       "      <td>0</td>\n",
       "      <td>0</td>\n",
       "      <td>...</td>\n",
       "      <td>0</td>\n",
       "      <td>0</td>\n",
       "      <td>0</td>\n",
       "      <td>0</td>\n",
       "      <td>0</td>\n",
       "      <td>0</td>\n",
       "      <td>1</td>\n",
       "      <td>0</td>\n",
       "      <td>0</td>\n",
       "      <td>0</td>\n",
       "    </tr>\n",
       "    <tr>\n",
       "      <th>...</th>\n",
       "      <td>...</td>\n",
       "      <td>...</td>\n",
       "      <td>...</td>\n",
       "      <td>...</td>\n",
       "      <td>...</td>\n",
       "      <td>...</td>\n",
       "      <td>...</td>\n",
       "      <td>...</td>\n",
       "      <td>...</td>\n",
       "      <td>...</td>\n",
       "      <td>...</td>\n",
       "      <td>...</td>\n",
       "      <td>...</td>\n",
       "      <td>...</td>\n",
       "      <td>...</td>\n",
       "      <td>...</td>\n",
       "      <td>...</td>\n",
       "      <td>...</td>\n",
       "      <td>...</td>\n",
       "      <td>...</td>\n",
       "      <td>...</td>\n",
       "    </tr>\n",
       "    <tr>\n",
       "      <th>1900</th>\n",
       "      <td>70.4</td>\n",
       "      <td>716.8</td>\n",
       "      <td>1343.54</td>\n",
       "      <td>28.51</td>\n",
       "      <td>0</td>\n",
       "      <td>0</td>\n",
       "      <td>0</td>\n",
       "      <td>1</td>\n",
       "      <td>0</td>\n",
       "      <td>0</td>\n",
       "      <td>...</td>\n",
       "      <td>0</td>\n",
       "      <td>1</td>\n",
       "      <td>0</td>\n",
       "      <td>0</td>\n",
       "      <td>0</td>\n",
       "      <td>0</td>\n",
       "      <td>0</td>\n",
       "      <td>0</td>\n",
       "      <td>0</td>\n",
       "      <td>1</td>\n",
       "    </tr>\n",
       "    <tr>\n",
       "      <th>1901</th>\n",
       "      <td>1366.3</td>\n",
       "      <td>19409.6</td>\n",
       "      <td>1591.01</td>\n",
       "      <td>26.69</td>\n",
       "      <td>0</td>\n",
       "      <td>0</td>\n",
       "      <td>1</td>\n",
       "      <td>0</td>\n",
       "      <td>0</td>\n",
       "      <td>0</td>\n",
       "      <td>...</td>\n",
       "      <td>0</td>\n",
       "      <td>0</td>\n",
       "      <td>0</td>\n",
       "      <td>0</td>\n",
       "      <td>0</td>\n",
       "      <td>0</td>\n",
       "      <td>0</td>\n",
       "      <td>0</td>\n",
       "      <td>0</td>\n",
       "      <td>1</td>\n",
       "    </tr>\n",
       "    <tr>\n",
       "      <th>1902</th>\n",
       "      <td>223.0</td>\n",
       "      <td>2450.6</td>\n",
       "      <td>1532.87</td>\n",
       "      <td>28.32</td>\n",
       "      <td>0</td>\n",
       "      <td>0</td>\n",
       "      <td>0</td>\n",
       "      <td>1</td>\n",
       "      <td>0</td>\n",
       "      <td>0</td>\n",
       "      <td>...</td>\n",
       "      <td>0</td>\n",
       "      <td>0</td>\n",
       "      <td>0</td>\n",
       "      <td>0</td>\n",
       "      <td>0</td>\n",
       "      <td>0</td>\n",
       "      <td>0</td>\n",
       "      <td>0</td>\n",
       "      <td>0</td>\n",
       "      <td>1</td>\n",
       "    </tr>\n",
       "    <tr>\n",
       "      <th>1903</th>\n",
       "      <td>275.0</td>\n",
       "      <td>5240.3</td>\n",
       "      <td>2261.05</td>\n",
       "      <td>26.27</td>\n",
       "      <td>0</td>\n",
       "      <td>0</td>\n",
       "      <td>1</td>\n",
       "      <td>0</td>\n",
       "      <td>0</td>\n",
       "      <td>0</td>\n",
       "      <td>...</td>\n",
       "      <td>0</td>\n",
       "      <td>0</td>\n",
       "      <td>0</td>\n",
       "      <td>1</td>\n",
       "      <td>0</td>\n",
       "      <td>0</td>\n",
       "      <td>0</td>\n",
       "      <td>0</td>\n",
       "      <td>0</td>\n",
       "      <td>1</td>\n",
       "    </tr>\n",
       "    <tr>\n",
       "      <th>1904</th>\n",
       "      <td>36.0</td>\n",
       "      <td>280.6</td>\n",
       "      <td>2261.05</td>\n",
       "      <td>26.27</td>\n",
       "      <td>0</td>\n",
       "      <td>0</td>\n",
       "      <td>1</td>\n",
       "      <td>0</td>\n",
       "      <td>0</td>\n",
       "      <td>0</td>\n",
       "      <td>...</td>\n",
       "      <td>0</td>\n",
       "      <td>0</td>\n",
       "      <td>0</td>\n",
       "      <td>0</td>\n",
       "      <td>0</td>\n",
       "      <td>0</td>\n",
       "      <td>0</td>\n",
       "      <td>0</td>\n",
       "      <td>0</td>\n",
       "      <td>1</td>\n",
       "    </tr>\n",
       "  </tbody>\n",
       "</table>\n",
       "<p>1905 rows × 39 columns</p>\n",
       "</div>\n",
       "    <div class=\"colab-df-buttons\">\n",
       "\n",
       "  <div class=\"colab-df-container\">\n",
       "    <button class=\"colab-df-convert\" onclick=\"convertToInteractive('df-7a267926-e554-4e8b-9463-c59c0624e50c')\"\n",
       "            title=\"Convert this dataframe to an interactive table.\"\n",
       "            style=\"display:none;\">\n",
       "\n",
       "  <svg xmlns=\"http://www.w3.org/2000/svg\" height=\"24px\" viewBox=\"0 -960 960 960\">\n",
       "    <path d=\"M120-120v-720h720v720H120Zm60-500h600v-160H180v160Zm220 220h160v-160H400v160Zm0 220h160v-160H400v160ZM180-400h160v-160H180v160Zm440 0h160v-160H620v160ZM180-180h160v-160H180v160Zm440 0h160v-160H620v160Z\"/>\n",
       "  </svg>\n",
       "    </button>\n",
       "\n",
       "  <style>\n",
       "    .colab-df-container {\n",
       "      display:flex;\n",
       "      gap: 12px;\n",
       "    }\n",
       "\n",
       "    .colab-df-convert {\n",
       "      background-color: #E8F0FE;\n",
       "      border: none;\n",
       "      border-radius: 50%;\n",
       "      cursor: pointer;\n",
       "      display: none;\n",
       "      fill: #1967D2;\n",
       "      height: 32px;\n",
       "      padding: 0 0 0 0;\n",
       "      width: 32px;\n",
       "    }\n",
       "\n",
       "    .colab-df-convert:hover {\n",
       "      background-color: #E2EBFA;\n",
       "      box-shadow: 0px 1px 2px rgba(60, 64, 67, 0.3), 0px 1px 3px 1px rgba(60, 64, 67, 0.15);\n",
       "      fill: #174EA6;\n",
       "    }\n",
       "\n",
       "    .colab-df-buttons div {\n",
       "      margin-bottom: 4px;\n",
       "    }\n",
       "\n",
       "    [theme=dark] .colab-df-convert {\n",
       "      background-color: #3B4455;\n",
       "      fill: #D2E3FC;\n",
       "    }\n",
       "\n",
       "    [theme=dark] .colab-df-convert:hover {\n",
       "      background-color: #434B5C;\n",
       "      box-shadow: 0px 1px 3px 1px rgba(0, 0, 0, 0.15);\n",
       "      filter: drop-shadow(0px 1px 2px rgba(0, 0, 0, 0.3));\n",
       "      fill: #FFFFFF;\n",
       "    }\n",
       "  </style>\n",
       "\n",
       "    <script>\n",
       "      const buttonEl =\n",
       "        document.querySelector('#df-7a267926-e554-4e8b-9463-c59c0624e50c button.colab-df-convert');\n",
       "      buttonEl.style.display =\n",
       "        google.colab.kernel.accessAllowed ? 'block' : 'none';\n",
       "\n",
       "      async function convertToInteractive(key) {\n",
       "        const element = document.querySelector('#df-7a267926-e554-4e8b-9463-c59c0624e50c');\n",
       "        const dataTable =\n",
       "          await google.colab.kernel.invokeFunction('convertToInteractive',\n",
       "                                                    [key], {});\n",
       "        if (!dataTable) return;\n",
       "\n",
       "        const docLinkHtml = 'Like what you see? Visit the ' +\n",
       "          '<a target=\"_blank\" href=https://colab.research.google.com/notebooks/data_table.ipynb>data table notebook</a>'\n",
       "          + ' to learn more about interactive tables.';\n",
       "        element.innerHTML = '';\n",
       "        dataTable['output_type'] = 'display_data';\n",
       "        await google.colab.output.renderOutput(dataTable, element);\n",
       "        const docLink = document.createElement('div');\n",
       "        docLink.innerHTML = docLinkHtml;\n",
       "        element.appendChild(docLink);\n",
       "      }\n",
       "    </script>\n",
       "  </div>\n",
       "\n",
       "\n",
       "<div id=\"df-2328bd43-b778-4ecb-a116-6e9a2bc3e516\">\n",
       "  <button class=\"colab-df-quickchart\" onclick=\"quickchart('df-2328bd43-b778-4ecb-a116-6e9a2bc3e516')\"\n",
       "            title=\"Suggest charts\"\n",
       "            style=\"display:none;\">\n",
       "\n",
       "<svg xmlns=\"http://www.w3.org/2000/svg\" height=\"24px\"viewBox=\"0 0 24 24\"\n",
       "     width=\"24px\">\n",
       "    <g>\n",
       "        <path d=\"M19 3H5c-1.1 0-2 .9-2 2v14c0 1.1.9 2 2 2h14c1.1 0 2-.9 2-2V5c0-1.1-.9-2-2-2zM9 17H7v-7h2v7zm4 0h-2V7h2v10zm4 0h-2v-4h2v4z\"/>\n",
       "    </g>\n",
       "</svg>\n",
       "  </button>\n",
       "\n",
       "<style>\n",
       "  .colab-df-quickchart {\n",
       "      --bg-color: #E8F0FE;\n",
       "      --fill-color: #1967D2;\n",
       "      --hover-bg-color: #E2EBFA;\n",
       "      --hover-fill-color: #174EA6;\n",
       "      --disabled-fill-color: #AAA;\n",
       "      --disabled-bg-color: #DDD;\n",
       "  }\n",
       "\n",
       "  [theme=dark] .colab-df-quickchart {\n",
       "      --bg-color: #3B4455;\n",
       "      --fill-color: #D2E3FC;\n",
       "      --hover-bg-color: #434B5C;\n",
       "      --hover-fill-color: #FFFFFF;\n",
       "      --disabled-bg-color: #3B4455;\n",
       "      --disabled-fill-color: #666;\n",
       "  }\n",
       "\n",
       "  .colab-df-quickchart {\n",
       "    background-color: var(--bg-color);\n",
       "    border: none;\n",
       "    border-radius: 50%;\n",
       "    cursor: pointer;\n",
       "    display: none;\n",
       "    fill: var(--fill-color);\n",
       "    height: 32px;\n",
       "    padding: 0;\n",
       "    width: 32px;\n",
       "  }\n",
       "\n",
       "  .colab-df-quickchart:hover {\n",
       "    background-color: var(--hover-bg-color);\n",
       "    box-shadow: 0 1px 2px rgba(60, 64, 67, 0.3), 0 1px 3px 1px rgba(60, 64, 67, 0.15);\n",
       "    fill: var(--button-hover-fill-color);\n",
       "  }\n",
       "\n",
       "  .colab-df-quickchart-complete:disabled,\n",
       "  .colab-df-quickchart-complete:disabled:hover {\n",
       "    background-color: var(--disabled-bg-color);\n",
       "    fill: var(--disabled-fill-color);\n",
       "    box-shadow: none;\n",
       "  }\n",
       "\n",
       "  .colab-df-spinner {\n",
       "    border: 2px solid var(--fill-color);\n",
       "    border-color: transparent;\n",
       "    border-bottom-color: var(--fill-color);\n",
       "    animation:\n",
       "      spin 1s steps(1) infinite;\n",
       "  }\n",
       "\n",
       "  @keyframes spin {\n",
       "    0% {\n",
       "      border-color: transparent;\n",
       "      border-bottom-color: var(--fill-color);\n",
       "      border-left-color: var(--fill-color);\n",
       "    }\n",
       "    20% {\n",
       "      border-color: transparent;\n",
       "      border-left-color: var(--fill-color);\n",
       "      border-top-color: var(--fill-color);\n",
       "    }\n",
       "    30% {\n",
       "      border-color: transparent;\n",
       "      border-left-color: var(--fill-color);\n",
       "      border-top-color: var(--fill-color);\n",
       "      border-right-color: var(--fill-color);\n",
       "    }\n",
       "    40% {\n",
       "      border-color: transparent;\n",
       "      border-right-color: var(--fill-color);\n",
       "      border-top-color: var(--fill-color);\n",
       "    }\n",
       "    60% {\n",
       "      border-color: transparent;\n",
       "      border-right-color: var(--fill-color);\n",
       "    }\n",
       "    80% {\n",
       "      border-color: transparent;\n",
       "      border-right-color: var(--fill-color);\n",
       "      border-bottom-color: var(--fill-color);\n",
       "    }\n",
       "    90% {\n",
       "      border-color: transparent;\n",
       "      border-bottom-color: var(--fill-color);\n",
       "    }\n",
       "  }\n",
       "</style>\n",
       "\n",
       "  <script>\n",
       "    async function quickchart(key) {\n",
       "      const quickchartButtonEl =\n",
       "        document.querySelector('#' + key + ' button');\n",
       "      quickchartButtonEl.disabled = true;  // To prevent multiple clicks.\n",
       "      quickchartButtonEl.classList.add('colab-df-spinner');\n",
       "      try {\n",
       "        const charts = await google.colab.kernel.invokeFunction(\n",
       "            'suggestCharts', [key], {});\n",
       "      } catch (error) {\n",
       "        console.error('Error during call to suggestCharts:', error);\n",
       "      }\n",
       "      quickchartButtonEl.classList.remove('colab-df-spinner');\n",
       "      quickchartButtonEl.classList.add('colab-df-quickchart-complete');\n",
       "    }\n",
       "    (() => {\n",
       "      let quickchartButtonEl =\n",
       "        document.querySelector('#df-2328bd43-b778-4ecb-a116-6e9a2bc3e516 button');\n",
       "      quickchartButtonEl.style.display =\n",
       "        google.colab.kernel.accessAllowed ? 'block' : 'none';\n",
       "    })();\n",
       "  </script>\n",
       "</div>\n",
       "    </div>\n",
       "  </div>\n"
      ],
      "text/plain": [
       "      Total-Extent  Total-Yield  Mean precipitation  Mean temperature  \\\n",
       "0              7.0         35.0             1894.93             27.15   \n",
       "1             59.0        190.0             1894.93             27.15   \n",
       "2             47.0        204.0             1894.93             27.15   \n",
       "3            121.0        213.0             1551.51             24.66   \n",
       "4            225.0       1241.0             1551.51             24.66   \n",
       "...            ...          ...                 ...               ...   \n",
       "1900          70.4        716.8             1343.54             28.51   \n",
       "1901        1366.3      19409.6             1591.01             26.69   \n",
       "1902         223.0       2450.6             1532.87             28.32   \n",
       "1903         275.0       5240.3             2261.05             26.27   \n",
       "1904          36.0        280.6             2261.05             26.27   \n",
       "\n",
       "      Soil_type_Immature Brown Loam  Soil_type_Red Yellow Latosols  \\\n",
       "0                                 0                              0   \n",
       "1                                 0                              0   \n",
       "2                                 0                              0   \n",
       "3                                 0                              0   \n",
       "4                                 1                              0   \n",
       "...                             ...                            ...   \n",
       "1900                              0                              0   \n",
       "1901                              0                              0   \n",
       "1902                              0                              0   \n",
       "1903                              0                              0   \n",
       "1904                              0                              0   \n",
       "\n",
       "      Soil_type_Red Yellow Podzolic soils  Soil_type_Reddish Brown Earths  \\\n",
       "0                                       1                               0   \n",
       "1                                       1                               0   \n",
       "2                                       0                               0   \n",
       "3                                       0                               0   \n",
       "4                                       0                               0   \n",
       "...                                   ...                             ...   \n",
       "1900                                    0                               1   \n",
       "1901                                    1                               0   \n",
       "1902                                    0                               1   \n",
       "1903                                    1                               0   \n",
       "1904                                    1                               0   \n",
       "\n",
       "      Soil_type_Reddish Brown Latosolic soil  Soil_type_Regosols  ...  \\\n",
       "0                                          0                   0  ...   \n",
       "1                                          0                   0  ...   \n",
       "2                                          1                   0  ...   \n",
       "3                                          1                   0  ...   \n",
       "4                                          0                   0  ...   \n",
       "...                                      ...                 ...  ...   \n",
       "1900                                       0                   0  ...   \n",
       "1901                                       0                   0  ...   \n",
       "1902                                       0                   0  ...   \n",
       "1903                                       0                   0  ...   \n",
       "1904                                       0                   0  ...   \n",
       "\n",
       "      District_Nuwara Eliya  District_Polonnaruwa  District_Puttalam  \\\n",
       "0                         0                     0                  0   \n",
       "1                         0                     0                  0   \n",
       "2                         0                     0                  0   \n",
       "3                         0                     0                  0   \n",
       "4                         0                     0                  0   \n",
       "...                     ...                   ...                ...   \n",
       "1900                      0                     1                  0   \n",
       "1901                      0                     0                  0   \n",
       "1902                      0                     0                  0   \n",
       "1903                      0                     0                  0   \n",
       "1904                      0                     0                  0   \n",
       "\n",
       "      District_Ratnapura  District_Trincomalee  District_Vavuniya  \\\n",
       "0                      0                     0                  0   \n",
       "1                      0                     0                  0   \n",
       "2                      0                     0                  0   \n",
       "3                      0                     0                  0   \n",
       "4                      0                     0                  0   \n",
       "...                  ...                   ...                ...   \n",
       "1900                   0                     0                  0   \n",
       "1901                   0                     0                  0   \n",
       "1902                   0                     0                  0   \n",
       "1903                   1                     0                  0   \n",
       "1904                   0                     0                  0   \n",
       "\n",
       "      Crop _Capsicum  Crop _Ginger  Crop _Red Pumpkin  Crop _Tomatoes  \n",
       "0                  1             0                  0               0  \n",
       "1                  1             0                  0               0  \n",
       "2                  1             0                  0               0  \n",
       "3                  1             0                  0               0  \n",
       "4                  1             0                  0               0  \n",
       "...              ...           ...                ...             ...  \n",
       "1900               0             0                  0               1  \n",
       "1901               0             0                  0               1  \n",
       "1902               0             0                  0               1  \n",
       "1903               0             0                  0               1  \n",
       "1904               0             0                  0               1  \n",
       "\n",
       "[1905 rows x 39 columns]"
      ]
     },
     "execution_count": 6,
     "metadata": {},
     "output_type": "execute_result"
    }
   ],
   "source": [
    "# Apply one-hot encoding\n",
    "df = pd.get_dummies(df, columns=['Soil_type'])\n",
    "df = pd.get_dummies(df, columns=['District'])\n",
    "df = pd.get_dummies(df, columns=['Crop '])\n",
    "\n",
    "X = df.drop(labels=['Total-Yield'], axis=1) #set of features\n",
    "y = df['Total-Yield'] #variable to be predicted\n",
    "\n",
    "df"
   ]
  },
  {
   "cell_type": "code",
   "execution_count": 7,
   "id": "c85b85c9",
   "metadata": {
    "colab": {
     "base_uri": "https://localhost:8080/"
    },
    "executionInfo": {
     "elapsed": 5,
     "status": "ok",
     "timestamp": 1702650495356,
     "user": {
      "displayName": "Pushpika Sundarreson",
      "userId": "16342568415616512786"
     },
     "user_tz": -330
    },
    "id": "c85b85c9",
    "outputId": "c2fa3ffa-689b-4276-8941-a5f659d8e80b"
   },
   "outputs": [
    {
     "data": {
      "text/plain": [
       "Index(['Total-Extent', 'Mean precipitation', 'Mean temperature',\n",
       "       'Soil_type_Immature Brown Loam', 'Soil_type_Red Yellow Latosols',\n",
       "       'Soil_type_Red Yellow Podzolic soils', 'Soil_type_Reddish Brown Earths',\n",
       "       'Soil_type_Reddish Brown Latosolic soil', 'Soil_type_Regosols',\n",
       "       'District_Ampara', 'District_Anuradhapura', 'District_Badulla',\n",
       "       'District_Batticaloa', 'District_Colombo', 'District_Galle',\n",
       "       'District_Gampaha', 'District_Hanbantota', 'District_Jaffna',\n",
       "       'District_Kaluthara', 'District_Kandy', 'District_Kegalle',\n",
       "       'District_Kilinochchi', 'District_Kurunegala', 'District_Mannar',\n",
       "       'District_Matale', 'District_Matara', 'District_Monaragala',\n",
       "       'District_Mullativu', 'District_Nuwara Eliya', 'District_Polonnaruwa',\n",
       "       'District_Puttalam', 'District_Ratnapura', 'District_Trincomalee',\n",
       "       'District_Vavuniya', 'Crop _Capsicum', 'Crop _Ginger',\n",
       "       'Crop _Red Pumpkin', 'Crop _Tomatoes'],\n",
       "      dtype='object')"
      ]
     },
     "execution_count": 7,
     "metadata": {},
     "output_type": "execute_result"
    }
   ],
   "source": [
    "X.columns"
   ]
  },
  {
   "cell_type": "code",
   "execution_count": 8,
   "id": "0c105c20",
   "metadata": {
    "executionInfo": {
     "elapsed": 3,
     "status": "ok",
     "timestamp": 1702650495356,
     "user": {
      "displayName": "Pushpika Sundarreson",
      "userId": "16342568415616512786"
     },
     "user_tz": -330
    },
    "id": "0c105c20"
   },
   "outputs": [],
   "source": [
    "X_reg_train,X_reg_test,y_reg_train,y_reg_test = train_test_split(X,y,test_size = 0.2,random_state= 42)\n",
    "#splitting the data - 20% for testing and 80% for training"
   ]
  },
  {
   "cell_type": "code",
   "execution_count": 9,
   "id": "0ff4a14b",
   "metadata": {
    "colab": {
     "base_uri": "https://localhost:8080/",
     "height": 74
    },
    "executionInfo": {
     "elapsed": 1654,
     "status": "ok",
     "timestamp": 1702650497007,
     "user": {
      "displayName": "Pushpika Sundarreson",
      "userId": "16342568415616512786"
     },
     "user_tz": -330
    },
    "id": "0ff4a14b",
    "outputId": "fabfef84-b1f8-45f0-cdb4-9df270cf8dce"
   },
   "outputs": [
    {
     "data": {
      "text/html": [
       "<style>#sk-container-id-1 {color: black;background-color: white;}#sk-container-id-1 pre{padding: 0;}#sk-container-id-1 div.sk-toggleable {background-color: white;}#sk-container-id-1 label.sk-toggleable__label {cursor: pointer;display: block;width: 100%;margin-bottom: 0;padding: 0.3em;box-sizing: border-box;text-align: center;}#sk-container-id-1 label.sk-toggleable__label-arrow:before {content: \"▸\";float: left;margin-right: 0.25em;color: #696969;}#sk-container-id-1 label.sk-toggleable__label-arrow:hover:before {color: black;}#sk-container-id-1 div.sk-estimator:hover label.sk-toggleable__label-arrow:before {color: black;}#sk-container-id-1 div.sk-toggleable__content {max-height: 0;max-width: 0;overflow: hidden;text-align: left;background-color: #f0f8ff;}#sk-container-id-1 div.sk-toggleable__content pre {margin: 0.2em;color: black;border-radius: 0.25em;background-color: #f0f8ff;}#sk-container-id-1 input.sk-toggleable__control:checked~div.sk-toggleable__content {max-height: 200px;max-width: 100%;overflow: auto;}#sk-container-id-1 input.sk-toggleable__control:checked~label.sk-toggleable__label-arrow:before {content: \"▾\";}#sk-container-id-1 div.sk-estimator input.sk-toggleable__control:checked~label.sk-toggleable__label {background-color: #d4ebff;}#sk-container-id-1 div.sk-label input.sk-toggleable__control:checked~label.sk-toggleable__label {background-color: #d4ebff;}#sk-container-id-1 input.sk-hidden--visually {border: 0;clip: rect(1px 1px 1px 1px);clip: rect(1px, 1px, 1px, 1px);height: 1px;margin: -1px;overflow: hidden;padding: 0;position: absolute;width: 1px;}#sk-container-id-1 div.sk-estimator {font-family: monospace;background-color: #f0f8ff;border: 1px dotted black;border-radius: 0.25em;box-sizing: border-box;margin-bottom: 0.5em;}#sk-container-id-1 div.sk-estimator:hover {background-color: #d4ebff;}#sk-container-id-1 div.sk-parallel-item::after {content: \"\";width: 100%;border-bottom: 1px solid gray;flex-grow: 1;}#sk-container-id-1 div.sk-label:hover label.sk-toggleable__label {background-color: #d4ebff;}#sk-container-id-1 div.sk-serial::before {content: \"\";position: absolute;border-left: 1px solid gray;box-sizing: border-box;top: 0;bottom: 0;left: 50%;z-index: 0;}#sk-container-id-1 div.sk-serial {display: flex;flex-direction: column;align-items: center;background-color: white;padding-right: 0.2em;padding-left: 0.2em;position: relative;}#sk-container-id-1 div.sk-item {position: relative;z-index: 1;}#sk-container-id-1 div.sk-parallel {display: flex;align-items: stretch;justify-content: center;background-color: white;position: relative;}#sk-container-id-1 div.sk-item::before, #sk-container-id-1 div.sk-parallel-item::before {content: \"\";position: absolute;border-left: 1px solid gray;box-sizing: border-box;top: 0;bottom: 0;left: 50%;z-index: -1;}#sk-container-id-1 div.sk-parallel-item {display: flex;flex-direction: column;z-index: 1;position: relative;background-color: white;}#sk-container-id-1 div.sk-parallel-item:first-child::after {align-self: flex-end;width: 50%;}#sk-container-id-1 div.sk-parallel-item:last-child::after {align-self: flex-start;width: 50%;}#sk-container-id-1 div.sk-parallel-item:only-child::after {width: 0;}#sk-container-id-1 div.sk-dashed-wrapped {border: 1px dashed gray;margin: 0 0.4em 0.5em 0.4em;box-sizing: border-box;padding-bottom: 0.4em;background-color: white;}#sk-container-id-1 div.sk-label label {font-family: monospace;font-weight: bold;display: inline-block;line-height: 1.2em;}#sk-container-id-1 div.sk-label-container {text-align: center;}#sk-container-id-1 div.sk-container {/* jupyter's `normalize.less` sets `[hidden] { display: none; }` but bootstrap.min.css set `[hidden] { display: none !important; }` so we also need the `!important` here to be able to override the default hidden behavior on the sphinx rendered scikit-learn.org. See: https://github.com/scikit-learn/scikit-learn/issues/21755 */display: inline-block !important;position: relative;}#sk-container-id-1 div.sk-text-repr-fallback {display: none;}</style><div id=\"sk-container-id-1\" class=\"sk-top-container\"><div class=\"sk-text-repr-fallback\"><pre>RandomForestRegressor(n_estimators=150, random_state=46)</pre><b>In a Jupyter environment, please rerun this cell to show the HTML representation or trust the notebook. <br />On GitHub, the HTML representation is unable to render, please try loading this page with nbviewer.org.</b></div><div class=\"sk-container\" hidden><div class=\"sk-item\"><div class=\"sk-estimator sk-toggleable\"><input class=\"sk-toggleable__control sk-hidden--visually\" id=\"sk-estimator-id-1\" type=\"checkbox\" checked><label for=\"sk-estimator-id-1\" class=\"sk-toggleable__label sk-toggleable__label-arrow\">RandomForestRegressor</label><div class=\"sk-toggleable__content\"><pre>RandomForestRegressor(n_estimators=150, random_state=46)</pre></div></div></div></div></div>"
      ],
      "text/plain": [
       "RandomForestRegressor(n_estimators=150, random_state=46)"
      ]
     },
     "execution_count": 9,
     "metadata": {},
     "output_type": "execute_result"
    }
   ],
   "source": [
    "rf_reg = RandomForestRegressor(n_estimators=150, random_state=46)\n",
    "rf_reg.fit(X_reg_train,y_reg_train)  #fitting the model"
   ]
  },
  {
   "cell_type": "code",
   "execution_count": 10,
   "id": "ae3d8389",
   "metadata": {
    "colab": {
     "base_uri": "https://localhost:8080/"
    },
    "executionInfo": {
     "elapsed": 5,
     "status": "ok",
     "timestamp": 1702650497008,
     "user": {
      "displayName": "Pushpika Sundarreson",
      "userId": "16342568415616512786"
     },
     "user_tz": -330
    },
    "id": "ae3d8389",
    "outputId": "5b961311-2854-4a74-d0bd-7da187056cc6"
   },
   "outputs": [
    {
     "name": "stdout",
     "output_type": "stream",
     "text": [
      "Training R-squared training (RF): 0.985250340890267\n",
      "Mean absolute error (RF):488.6602169728786\n",
      "Mean squared error (RF):1653729.0449848606\n",
      "R-squared coefficient (RF):0.9026235915113272\n"
     ]
    }
   ],
   "source": [
    "score = rf_reg.score(X_reg_train , y_reg_train )\n",
    "y_pred_reg = rf_reg.predict(X_reg_test )\n",
    "\n",
    "mae = metrics.mean_absolute_error(y_reg_test,y_pred_reg)\n",
    "mse = metrics.mean_squared_error(y_reg_test,y_pred_reg)\n",
    "r2 = metrics.r2_score(y_reg_test, y_pred_reg)\n",
    "\n",
    "print(f\"Training R-squared training (RF): {score}\")\n",
    "print(f'Mean absolute error (RF):{mae}')\n",
    "print(f'Mean squared error (RF):{mse}')\n",
    "print(f'R-squared coefficient (RF):{r2}')"
   ]
  },
  {
   "cell_type": "code",
   "execution_count": 11,
   "id": "V2AMcfsBkszv",
   "metadata": {
    "colab": {
     "base_uri": "https://localhost:8080/"
    },
    "executionInfo": {
     "elapsed": 812,
     "status": "ok",
     "timestamp": 1702650497816,
     "user": {
      "displayName": "Pushpika Sundarreson",
      "userId": "16342568415616512786"
     },
     "user_tz": -330
    },
    "id": "V2AMcfsBkszv",
    "outputId": "06d4255b-ca1b-41c3-ffe9-6a4e1a007627"
   },
   "outputs": [
    {
     "name": "stdout",
     "output_type": "stream",
     "text": [
      "R-squared for training data (XGB): 0.9998819723038594\n",
      "Mean absolute error (XGB): 467.64659062298574\n",
      "Mean squared error (XGB): 1529606.471635683\n",
      "R-squared for test data (XGB): 0.9099322920761319\n"
     ]
    }
   ],
   "source": [
    "import xgboost as xgb\n",
    "\n",
    "xgb_reg = xgb.XGBRegressor(n_estimators=150, random_state=46)\n",
    "\n",
    "# Fitting the model\n",
    "xgb_reg.fit(X_reg_train, y_reg_train)\n",
    "\n",
    "y_pred_train_xgb = xgb_reg.predict(X_reg_train)\n",
    "y_pred_test_xgb = xgb_reg.predict(X_reg_test)\n",
    "\n",
    "r2_train_xgb = metrics.r2_score(y_reg_train, y_pred_train_xgb)\n",
    "\n",
    "mae_xgb = metrics.mean_absolute_error(y_reg_test, y_pred_test_xgb)\n",
    "mse_xgb = metrics.mean_squared_error(y_reg_test, y_pred_test_xgb)\n",
    "r2_test_xgb = metrics.r2_score(y_reg_test, y_pred_test_xgb)\n",
    "\n",
    "print(f\"R-squared for training data (XGB): {r2_train_xgb}\")\n",
    "print(f'Mean absolute error (XGB): {mae_xgb}')\n",
    "print(f'Mean squared error (XGB): {mse_xgb}')\n",
    "print(f'R-squared for test data (XGB): {r2_test_xgb}')"
   ]
  },
  {
   "cell_type": "code",
   "execution_count": 12,
   "id": "H2D8SlLYrRMi",
   "metadata": {
    "colab": {
     "base_uri": "https://localhost:8080/"
    },
    "executionInfo": {
     "elapsed": 1178,
     "status": "ok",
     "timestamp": 1702650498991,
     "user": {
      "displayName": "Pushpika Sundarreson",
      "userId": "16342568415616512786"
     },
     "user_tz": -330
    },
    "id": "H2D8SlLYrRMi",
    "outputId": "b16e6f18-ad02-43e5-df3b-32257ff7a511"
   },
   "outputs": [
    {
     "name": "stdout",
     "output_type": "stream",
     "text": [
      "[LightGBM] [Warning] Found whitespace in feature_names, replace with underlines\n",
      "[LightGBM] [Info] Auto-choosing row-wise multi-threading, the overhead of testing was 0.000439 seconds.\n",
      "You can set `force_row_wise=true` to remove the overhead.\n",
      "And if memory is not enough, you can set `force_col_wise=true`.\n",
      "[LightGBM] [Info] Total Bins 635\n",
      "[LightGBM] [Info] Number of data points in the train set: 1524, number of used features: 38\n",
      "[LightGBM] [Info] Start training from score 1951.624869\n",
      "R-squared for training data (LightGBM): 0.9450050890731101\n",
      "Mean absolute error (LightGBM): 449.0182640496159\n",
      "Mean squared error (LightGBM): 1084954.6407000043\n",
      "R-squared for test data (LightGBM): 0.9361146938763164\n"
     ]
    }
   ],
   "source": [
    "import lightgbm as lgb\n",
    "\n",
    "lgb_reg = lgb.LGBMRegressor(n_estimators=150, random_state=46)\n",
    "\n",
    "# Fitting the model to the training data\n",
    "lgb_reg.fit(X_reg_train, y_reg_train)\n",
    "\n",
    "y_pred_train_lgb = lgb_reg.predict(X_reg_train)\n",
    "y_pred_test_lgb = lgb_reg.predict(X_reg_test)\n",
    "\n",
    "r2_train_lgb = metrics.r2_score(y_reg_train, y_pred_train_lgb)\n",
    "\n",
    "mae_lgb = metrics.mean_absolute_error(y_reg_test, y_pred_test_lgb)\n",
    "mse_lgb = metrics.mean_squared_error(y_reg_test, y_pred_test_lgb)\n",
    "r2_test_lgb = metrics.r2_score(y_reg_test, y_pred_test_lgb)\n",
    "\n",
    "print(f\"R-squared for training data (LightGBM): {r2_train_lgb}\")\n",
    "print(f'Mean absolute error (LightGBM): {mae_lgb}')\n",
    "print(f'Mean squared error (LightGBM): {mse_lgb}')\n",
    "print(f'R-squared for test data (LightGBM): {r2_test_lgb}')"
   ]
  },
  {
   "cell_type": "code",
   "execution_count": 13,
   "id": "Ch-p9HDAv6QT",
   "metadata": {
    "colab": {
     "base_uri": "https://localhost:8080/",
     "height": 564
    },
    "executionInfo": {
     "elapsed": 905,
     "status": "ok",
     "timestamp": 1702650499892,
     "user": {
      "displayName": "Pushpika Sundarreson",
      "userId": "16342568415616512786"
     },
     "user_tz": -330
    },
    "id": "Ch-p9HDAv6QT",
    "outputId": "b4dc4b97-9819-470e-84e7-0c2dfc140578"
   },
   "outputs": [
    {
     "data": {
      "image/png": "[encoded data removed]",
      "text/plain": [
       "<Figure size 1000x600 with 1 Axes>"
      ]
     },
     "metadata": {},
     "output_type": "display_data"
    }
   ],
   "source": [
    "import matplotlib.pyplot as plt\n",
    "\n",
    "# Plotting Actual vs Predicted Values for the Test Set\n",
    "plt.figure(figsize=(10, 6))\n",
    "plt.scatter(y_reg_test, y_pred_test_lgb, alpha=0.6, color='blue', label='Predicted vs Actual')\n",
    "plt.plot([y_reg_test.min(), y_reg_test.max()], [y_reg_test.min(), y_reg_test.max()], 'k--', lw=3)  # Diagonal line\n",
    "plt.xlabel('Actual Values')\n",
    "plt.ylabel('Predicted Values')\n",
    "plt.title('Actual vs. Predicted Values (Test Set)')\n",
    "plt.legend()\n",
    "plt.show()\n"
   ]
  },
  {
   "cell_type": "code",
   "execution_count": 14,
   "id": "jAoyuESXxGbW",
   "metadata": {
    "colab": {
     "base_uri": "https://localhost:8080/",
     "height": 564
    },
    "executionInfo": {
     "elapsed": 15,
     "status": "ok",
     "timestamp": 1702650499893,
     "user": {
      "displayName": "Pushpika Sundarreson",
      "userId": "16342568415616512786"
     },
     "user_tz": -330
    },
    "id": "jAoyuESXxGbW",
    "outputId": "914fd139-dfd2-471f-860c-d83a34bec66a"
   },
   "outputs": [
    {
     "data": {
      "image/png": "[encoded data removed]",
      "text/plain": [
       "<Figure size 1000x600 with 1 Axes>"
      ]
     },
     "metadata": {},
     "output_type": "display_data"
    }
   ],
   "source": [
    "# Calculating residuals for the test set\n",
    "residuals = y_reg_test - y_pred_test_lgb\n",
    "\n",
    "# Plotting Residuals\n",
    "plt.figure(figsize=(10, 6))\n",
    "plt.scatter(y_pred_test_lgb, residuals, alpha=0.6, color='red')\n",
    "plt.hlines(y=0, xmin=y_pred_test_lgb.min(), xmax=y_pred_test_lgb.max(), linestyles='dashed')\n",
    "plt.xlabel('Predicted Values')\n",
    "plt.ylabel('Residuals')\n",
    "plt.title('Residuals vs. Predicted Values (Test Set)')\n",
    "plt.show()\n"
   ]
  },
  {
   "cell_type": "markdown",
   "id": "4a063518",
   "metadata": {
    "id": "4a063518"
   },
   "source": [
    "## Predictions ##"
   ]
  },
  {
   "cell_type": "code",
   "execution_count": 15,
   "id": "3ec3f33d",
   "metadata": {
    "colab": {
     "base_uri": "https://localhost:8080/"
    },
    "executionInfo": {
     "elapsed": 35245,
     "status": "ok",
     "timestamp": 1702650535125,
     "user": {
      "displayName": "Pushpika Sundarreson",
      "userId": "16342568415616512786"
     },
     "user_tz": -330
    },
    "id": "3ec3f33d",
    "outputId": "d83fd612-8fab-4f86-8187-258abc01186d"
   },
   "outputs": [
    {
     "name": "stdout",
     "output_type": "stream",
     "text": [
      "Enter district: District_Colombo\n",
      "Enter soil type: Soil_type_Red Yellow Latosols\n",
      "Enter mean temperature: 34\n",
      "Enter mean precipitation: 700\n",
      "Enter land size: 10\n",
      "Enter type of crop: Crop _Tomatoes\n",
      "The predicted crop yield is: 102.39259278147374\n"
     ]
    }
   ],
   "source": [
    "district = input('Enter district: ')\n",
    "soil_type = input('Enter soil type: ')\n",
    "temperature = float(input('Enter mean temperature: '))\n",
    "precipitation = float(input('Enter mean precipitation: '))\n",
    "total_extent = float(input('Enter land size: '))\n",
    "crop_type = input('Enter type of crop: ')\n",
    "\n",
    "# DataFrame with the input data\n",
    "input_data = pd.DataFrame({\n",
    "    'District': [district],\n",
    "    'Soil_type': [soil_type],\n",
    "    'Mean temperature': [temperature],\n",
    "    'Mean precipitation': [precipitation],\n",
    "    'Total-Extent': [total_extent],\n",
    "    'Crop ': [crop_type]\n",
    "})\n",
    "\n",
    "# One-hot encoding the categorical variables\n",
    "input_data_encoded = pd.get_dummies(input_data, columns=['District', 'Soil_type', 'Crop '])\n",
    "\n",
    "# DataFrame with zeros for all columns required for the model\n",
    "model_columns = ['Total-Extent', 'Mean precipitation', 'Mean temperature',\n",
    "                 'Soil_type_Immature Brown Loam', 'Soil_type_Red Yellow Latosols',\n",
    "                 'Soil_type_Red Yellow Podzolic soils', 'Soil_type_Reddish Brown Earths',\n",
    "                 'Soil_type_Reddish Brown Latosolic soil',\n",
    "                 'Soil_type_Regosols', 'District_Ampara', 'District_Anuradhapura',\n",
    "                 'District_Badulla', 'District_Batticaloa', 'District_Colombo',\n",
    "                 'District_Galle', 'District_Gampaha', 'District_Hanbantota',\n",
    "                 'District_Jaffna', 'District_Kaluthara', 'District_Kandy',\n",
    "                 'District_Kegalle', 'District_Kilinochchi', 'District_Kurunegala',\n",
    "                 'District_Mannar', 'District_Matale', 'District_Matara',\n",
    "                 'District_Monaragala', 'District_Mullativu', 'District_Nuwara Eliya',\n",
    "                 'District_Polonnaruwa', 'District_Puttalam', 'District_Ratnapura',\n",
    "                 'District_Trincomalee', 'District_Vavuniya', 'Crop _Capsicum',\n",
    "                 'Crop _Ginger', 'Crop _Red Pumpkin', 'Crop _Tomatoes']\n",
    "\n",
    "\n",
    "# Drop columns from input_data_encoded that are completely empty\n",
    "input_data_encoded = input_data_encoded.dropna(axis=1, how='all')\n",
    "\n",
    "# Create a DataFrame with the required columns\n",
    "input_df = pd.DataFrame(columns=model_columns, index=[0])\n",
    "input_df = input_df.fillna(0)\n",
    "\n",
    "for column in input_data_encoded.columns:\n",
    "    if column in input_df.columns:\n",
    "        input_df[column] = input_data_encoded[column]\n",
    "\n",
    "input_df.fillna(0, inplace=True)\n",
    "\n",
    "# Reorder the columns as per the model's training data\n",
    "input_df = input_df[model_columns]\n",
    "\n",
    "# Predict the crop yield\n",
    "predicted_yield = lgb_reg.predict(input_df)\n",
    "\n",
    "print(f\"The predicted crop yield is: {predicted_yield[0]}\")"
   ]
  }
 ],
 "metadata": {
  "colab": {
   "provenance": []
  },
  "kernelspec": {
   "display_name": "Python 3 (ipykernel)",
   "language": "python",
   "name": "python3"
  },
  "language_info": {
   "codemirror_mode": {
    "name": "ipython",
    "version": 3
   },
   "file_extension": ".py",
   "mimetype": "text/x-python",
   "name": "python",
   "nbconvert_exporter": "python",
   "pygments_lexer": "ipython3",
   "version": "3.11.7"
  }
 },
 "nbformat": 4,
 "nbformat_minor": 5
}
